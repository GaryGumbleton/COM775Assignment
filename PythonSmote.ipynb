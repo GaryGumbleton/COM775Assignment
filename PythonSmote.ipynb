{
 "cells": [
  {
   "cell_type": "code",
   "execution_count": 70,
   "metadata": {},
   "outputs": [
    {
     "name": "stdout",
     "output_type": "stream",
     "text": [
      "Dataset dimensions: (1470, 35)\n",
      "Index(['Age', 'Attrition', 'BusinessTravel', 'DailyRate', 'Department',\n",
      "       'DistanceFromHome', 'Education', 'EducationField', 'EmployeeCount',\n",
      "       'EmployeeNumber', 'EnvironmentSatisfaction', 'Gender', 'HourlyRate',\n",
      "       'JobInvolvement', 'JobLevel', 'JobRole', 'JobSatisfaction',\n",
      "       'MaritalStatus', 'MonthlyIncome', 'MonthlyRate', 'NumCompaniesWorked',\n",
      "       'Over18', 'OverTime', 'PercentSalaryHike', 'PerformanceRating',\n",
      "       'RelationshipSatisfaction', 'StandardHours', 'StockOptionLevel',\n",
      "       'TotalWorkingYears', 'TrainingTimesLastYear', 'WorkLifeBalance',\n",
      "       'YearsAtCompany', 'YearsInCurrentRole', 'YearsSinceLastPromotion',\n",
      "       'YearsWithCurrManager'],\n",
      "      dtype='object')\n"
     ]
    }
   ],
   "source": [
    "import pandas as pd\n",
    "from sklearn.preprocessing import StandardScaler\n",
    "from sklearn.preprocessing import LabelEncoder\n",
    "from sklearn.decomposition import PCA\n",
    "import matplotlib.pyplot as plt\n",
    "import seaborn as sns\n",
    "\n",
    "\n",
    "# Replace with your file path\n",
    "#fileNameCSV = \"WA_Fn-UseC_-HR-Employee-Attrition.csv\"\n",
    "fileNameCSV = \"WholeDataAsNumbers.csv\"\n",
    "try:\n",
    "    # Attempt to read the CSV file into a DataFrame\n",
    "    df = pd.read_csv(fileNameCSV)\n",
    "except PermissionError:\n",
    "    print(f\"PermissionError: You do not have permission to read the file '{fileNameCSV}'.\")\n",
    "except FileNotFoundError:\n",
    "    print(f\"FileNotFoundError: The file '{fileNameCSV}' does not exist.\")\n",
    "except Exception as e:\n",
    "    print(f\"An error occurred: {e}\")\n",
    "\n",
    "print(\"Dataset dimensions:\", df.shape)\n",
    "\n",
    "#print(df.info())\n",
    "print(df.columns)\n",
    "df = df.drop(columns=['EmployeeCount'])\n",
    "df = df.drop(columns=['StandardHours'])\n",
    "df = df.drop(columns=['Over18'])\n",
    "df = df.drop(columns=['EmployeeNumber'])"
   ]
  },
  {
   "cell_type": "markdown",
   "metadata": {},
   "source": [
    "1. Preprocess the Dataset"
   ]
  },
  {
   "cell_type": "code",
   "execution_count": 71,
   "metadata": {},
   "outputs": [],
   "source": [
    "#Encode Categorical Variables:\n",
    "#df = pd.get_dummies(df, drop_first=True)\n",
    "#Encode Categorical Variables:\n",
    "df = pd.get_dummies(df, drop_first=True)\n",
    "#Standardize the Data:\n",
    "from sklearn.preprocessing import StandardScaler\n",
    "scaler = StandardScaler()\n",
    "target_column = [col for col in df.columns if col.startswith('Attrition')][0]\n",
    "data_scaled = scaler.fit_transform(df.drop(target_column, axis=1))\n",
    "\n"
   ]
  },
  {
   "cell_type": "markdown",
   "metadata": {},
   "source": [
    "2. Handle the Class Imbalance"
   ]
  },
  {
   "cell_type": "code",
   "execution_count": 72,
   "metadata": {},
   "outputs": [
    {
     "name": "stdout",
     "output_type": "stream",
     "text": [
      "Before SMOTE: Attrition\n",
      "0    1233\n",
      "1     237\n",
      "Name: count, dtype: int64\n",
      "After SMOTE: Attrition\n",
      "0    1233\n",
      "1     473\n",
      "Name: count, dtype: int64\n",
      "Resampled data has been saved to 'SmotedData.csv'.\n"
     ]
    }
   ],
   "source": [
    "#Smote\n",
    "from imblearn.over_sampling import SMOTE\n",
    "\n",
    "X = df.drop(target_column, axis=1)\n",
    "y = df[target_column]\n",
    "\n",
    "# Calculate the sampling proportion for 200% oversampling\n",
    "current_minority_count = y.value_counts()[y.value_counts().idxmin()]\n",
    "current_majority_count = y.value_counts()[y.value_counts().idxmax()]\n",
    "desired_minority_count = current_minority_count * 2\n",
    "\n",
    "sampling_strategy = desired_minority_count / current_majority_count\n",
    "\n",
    "# Apply SMOTE with the corrected sampling strategy\n",
    "smote = SMOTE(sampling_strategy=sampling_strategy, random_state=42)\n",
    "X_resampled, y_resampled = smote.fit_resample(X, y)\n",
    "print(\"Before SMOTE:\", y.value_counts())\n",
    "print(\"After SMOTE:\", pd.Series(y_resampled).value_counts())\n",
    "\n",
    "\n",
    "\n",
    "# Combine X_resampled and y_resampled into a single DataFrame\n",
    "resampled_data = pd.DataFrame(X_resampled, columns=X.columns)\n",
    "resampled_data[target_column] = y_resampled\n",
    "\n",
    "# Save the resampled data to a CSV file\n",
    "resampled_data.to_csv('SmotedData.csv', index=False)\n",
    "\n",
    "print(\"Resampled data has been saved to 'SmotedData.csv'.\")\n",
    "\n"
   ]
  },
  {
   "cell_type": "markdown",
   "metadata": {},
   "source": [
    "3. Explore the Data"
   ]
  },
  {
   "cell_type": "code",
   "execution_count": 73,
   "metadata": {},
   "outputs": [
    {
     "name": "stdout",
     "output_type": "stream",
     "text": [
      "Age                        -0.159205\n",
      "Attrition                   1.000000\n",
      "BusinessTravel              0.127006\n",
      "DailyRate                  -0.056652\n",
      "Department                 -0.063991\n",
      "DistanceFromHome            0.077924\n",
      "Education                  -0.031373\n",
      "EducationField              0.035303\n",
      "EnvironmentSatisfaction    -0.103369\n",
      "Gender                      0.029453\n",
      "HourlyRate                 -0.006846\n",
      "JobInvolvement             -0.130016\n",
      "JobLevel                   -0.169105\n",
      "JobRole                     0.067151\n",
      "JobSatisfaction            -0.103481\n",
      "MaritalStatus              -0.162070\n",
      "MonthlyIncome              -0.159840\n",
      "MonthlyRate                 0.015170\n",
      "NumCompaniesWorked          0.043494\n",
      "OverTime                    0.246118\n",
      "PercentSalaryHike          -0.013478\n",
      "PerformanceRating           0.002889\n",
      "RelationshipSatisfaction   -0.045872\n",
      "StockOptionLevel           -0.137145\n",
      "TotalWorkingYears          -0.171063\n",
      "TrainingTimesLastYear      -0.059478\n",
      "WorkLifeBalance            -0.063939\n",
      "YearsAtCompany             -0.134392\n",
      "YearsInCurrentRole         -0.160545\n",
      "YearsSinceLastPromotion    -0.033019\n",
      "YearsWithCurrManager       -0.156199\n",
      "Name: Attrition, dtype: float64\n"
     ]
    },
    {
     "data": {
      "text/plain": [
       "<Axes: xlabel='Attrition', ylabel='MonthlyIncome'>"
      ]
     },
     "execution_count": 73,
     "metadata": {},
     "output_type": "execute_result"
    },
    {
     "data": {
      "image/png": "[encoded data removed]",
      "text/plain": [
       "<Figure size 640x480 with 1 Axes>"
      ]
     },
     "metadata": {},
     "output_type": "display_data"
    }
   ],
   "source": [
    "#Correlation Analysis:\n",
    "correlation_matrix = df.corr()\n",
    "print(correlation_matrix[target_column])\n",
    "#EDA (Exploratory Data Analysis):\n",
    "import seaborn as sns\n",
    "sns.boxplot(x=target_column, y='MonthlyIncome', data=df)\n",
    "#sns.barplot(x=target_column, y='OverTime', data=df)\n"
   ]
  },
  {
   "cell_type": "markdown",
   "metadata": {},
   "source": [
    "4. Feature Selection"
   ]
  },
  {
   "cell_type": "code",
   "execution_count": 74,
   "metadata": {},
   "outputs": [
    {
     "name": "stdout",
     "output_type": "stream",
     "text": [
      "                     Feature  InfoGain\n",
      "18                  OverTime  0.041214\n",
      "12                   JobRole  0.035040\n",
      "27        YearsInCurrentRole  0.032748\n",
      "15             MonthlyIncome  0.031066\n",
      "29      YearsWithCurrManager  0.027644\n",
      "26            YearsAtCompany  0.026476\n",
      "11                  JobLevel  0.024611\n",
      "22          StockOptionLevel  0.021921\n",
      "0                        Age  0.020305\n",
      "14             MaritalStatus  0.020187\n",
      "5                  Education  0.019772\n",
      "13           JobSatisfaction  0.017808\n",
      "21  RelationshipSatisfaction  0.014282\n",
      "8                     Gender  0.014118\n",
      "23         TotalWorkingYears  0.013572\n",
      "10            JobInvolvement  0.012089\n",
      "6             EducationField  0.010450\n",
      "3                 Department  0.007036\n",
      "17        NumCompaniesWorked  0.005589\n",
      "1             BusinessTravel  0.003592\n",
      "20         PerformanceRating  0.003004\n",
      "2                  DailyRate  0.002517\n",
      "16               MonthlyRate  0.002162\n",
      "24     TrainingTimesLastYear  0.001464\n",
      "19         PercentSalaryHike  0.001078\n",
      "4           DistanceFromHome  0.000000\n",
      "9                 HourlyRate  0.000000\n",
      "25           WorkLifeBalance  0.000000\n",
      "7    EnvironmentSatisfaction  0.000000\n",
      "28   YearsSinceLastPromotion  0.000000\n"
     ]
    }
   ],
   "source": [
    "#Use statistical and machine learning techniques to identify important features:\n",
    "#InfoGainAttributeEval\n",
    "from sklearn.feature_selection import mutual_info_classif\n",
    "import pandas as pd\n",
    "\n",
    "# Separate features and target\n",
    "X = df.drop(target_column, axis=1)\n",
    "y = df[target_column]\n",
    "\n",
    "# Calculate information gain for each feature\n",
    "info_gain = mutual_info_classif(X, y)\n",
    "\n",
    "# Create a DataFrame for better visualization\n",
    "info_gain_df = pd.DataFrame({'Feature': X.columns, 'InfoGain': info_gain})\n",
    "\n",
    "# Sort features by information gain in descending order\n",
    "info_gain_df = info_gain_df.sort_values(by='InfoGain', ascending=False)\n",
    "print(info_gain_df)\n"
   ]
  },
  {
   "cell_type": "code",
   "execution_count": 75,
   "metadata": {},
   "outputs": [
    {
     "name": "stdout",
     "output_type": "stream",
     "text": [
      "Random Forest:\n",
      "MonthlyIncome               0.066947\n",
      "MonthlyRate                 0.049690\n",
      "Age                         0.048919\n",
      "TotalWorkingYears           0.045547\n",
      "MaritalStatus               0.045252\n",
      "DistanceFromHome            0.045105\n",
      "HourlyRate                  0.045088\n",
      "JobSatisfaction             0.044506\n",
      "StockOptionLevel            0.044457\n",
      "DailyRate                   0.043449\n",
      "JobInvolvement              0.042935\n",
      "YearsWithCurrManager        0.037461\n",
      "EnvironmentSatisfaction     0.036669\n",
      "YearsAtCompany              0.036481\n",
      "RelationshipSatisfaction    0.032506\n",
      "YearsInCurrentRole          0.030425\n",
      "Department                  0.030277\n",
      "PercentSalaryHike           0.028198\n",
      "NumCompaniesWorked          0.027603\n",
      "JobRole                     0.027323\n",
      "TrainingTimesLastYear       0.027313\n",
      "WorkLifeBalance             0.025548\n",
      "YearsSinceLastPromotion     0.023853\n",
      "JobLevel                    0.023155\n",
      "OverTime                    0.023109\n",
      "EducationField              0.023053\n",
      "Education                   0.019716\n",
      "BusinessTravel              0.011608\n",
      "Gender                      0.010313\n",
      "PerformanceRating           0.003499\n",
      "dtype: float64\n",
      "Logistic Regression Coefficients:\n",
      "NumCompaniesWorked          0.060328\n",
      "JobRole                     0.057114\n",
      "YearsSinceLastPromotion     0.054939\n",
      "DistanceFromHome            0.050703\n",
      "Age                         0.021732\n",
      "OverTime                    0.021690\n",
      "BusinessTravel              0.014252\n",
      "EducationField              0.012968\n",
      "PercentSalaryHike           0.006380\n",
      "PerformanceRating           0.006331\n",
      "MonthlyRate                 0.000014\n",
      "MonthlyIncome              -0.000061\n",
      "HourlyRate                 -0.000242\n",
      "DailyRate                  -0.000551\n",
      "YearsAtCompany             -0.006916\n",
      "JobLevel                   -0.007751\n",
      "Gender                     -0.010171\n",
      "Education                  -0.011887\n",
      "WorkLifeBalance            -0.018168\n",
      "TotalWorkingYears          -0.019027\n",
      "Department                 -0.027936\n",
      "RelationshipSatisfaction   -0.031964\n",
      "TrainingTimesLastYear      -0.039472\n",
      "JobInvolvement             -0.043083\n",
      "EnvironmentSatisfaction    -0.048126\n",
      "StockOptionLevel           -0.050217\n",
      "MaritalStatus              -0.050218\n",
      "JobSatisfaction            -0.051068\n",
      "YearsInCurrentRole         -0.066950\n",
      "YearsWithCurrManager       -0.077344\n",
      "dtype: float64\n"
     ]
    },
    {
     "name": "stderr",
     "output_type": "stream",
     "text": [
      "/opt/anaconda3/lib/python3.12/site-packages/sklearn/linear_model/_logistic.py:469: ConvergenceWarning: lbfgs failed to converge (status=1):\n",
      "STOP: TOTAL NO. of ITERATIONS REACHED LIMIT.\n",
      "\n",
      "Increase the number of iterations (max_iter) or scale the data as shown in:\n",
      "    https://scikit-learn.org/stable/modules/preprocessing.html\n",
      "Please also refer to the documentation for alternative solver options:\n",
      "    https://scikit-learn.org/stable/modules/linear_model.html#logistic-regression\n",
      "  n_iter_i = _check_optimize_result(\n"
     ]
    }
   ],
   "source": [
    "#Use statistical and machine learning techniques to identify important features:\n",
    "#Random Forest:\n",
    "print(\"Random Forest:\")\n",
    "from sklearn.ensemble import RandomForestClassifier\n",
    "model = RandomForestClassifier(random_state=42)\n",
    "model.fit(X_resampled, y_resampled)\n",
    "feature_importances = pd.Series(model.feature_importances_, index=X.columns)\n",
    "print(feature_importances.sort_values(ascending=False))\n",
    "print(\"Logistic Regression Coefficients:\")\n",
    "\n",
    "#Logistic Regression Coefficients:\n",
    "from sklearn.linear_model import LogisticRegression\n",
    "\n",
    "lr = LogisticRegression(class_weight='balanced', random_state=42)\n",
    "lr.fit(X_resampled, y_resampled)\n",
    "print(pd.Series(lr.coef_[0], index=X.columns).sort_values(ascending=False))\n"
   ]
  },
  {
   "cell_type": "markdown",
   "metadata": {},
   "source": []
  },
  {
   "cell_type": "code",
   "execution_count": 78,
   "metadata": {},
   "outputs": [
    {
     "name": "stdout",
     "output_type": "stream",
     "text": [
      "Significant Features with Coefficients and P-Values:\n",
      "                     Feature  Coefficient       P-Value\n",
      "1                        Age    -0.003770  4.835511e-03\n",
      "2             BusinessTravel     0.082485  3.399468e-07\n",
      "4                 Department    -0.057179  1.108880e-02\n",
      "5           DistanceFromHome     0.003506  9.570437e-04\n",
      "8    EnvironmentSatisfaction    -0.040183  3.500794e-07\n",
      "9                     Gender     0.039541  2.441223e-02\n",
      "11            JobInvolvement    -0.061900  3.445677e-07\n",
      "14           JobSatisfaction    -0.038428  9.377822e-07\n",
      "15             MaritalStatus    -0.052733  8.807292e-04\n",
      "18        NumCompaniesWorked     0.016944  1.047496e-05\n",
      "19                  OverTime     0.206721  4.112201e-26\n",
      "22  RelationshipSatisfaction    -0.022110  5.497783e-03\n",
      "26           WorkLifeBalance    -0.027725  2.271344e-02\n",
      "27            YearsAtCompany     0.005959  4.580343e-02\n",
      "28        YearsInCurrentRole    -0.010186  8.805932e-03\n",
      "29   YearsSinceLastPromotion     0.011073  1.241571e-03\n",
      "30      YearsWithCurrManager    -0.010415  8.961017e-03\n"
     ]
    }
   ],
   "source": [
    "import pandas as pd\n",
    "import statsmodels.api as sm\n",
    "\n",
    "# Define features and target\n",
    "X = df.drop(target_column, axis=1)\n",
    "y = df[target_column]\n",
    "\n",
    "# Add a constant to the features (for intercept in regression)\n",
    "X = sm.add_constant(X)\n",
    "\n",
    "# Fit an Ordinary Least Squares (OLS) model\n",
    "model = sm.OLS(y, X).fit()\n",
    "\n",
    "# Get p-values and coefficients\n",
    "p_values = model.pvalues\n",
    "coefficients = model.params\n",
    "\n",
    "# Create a DataFrame with coefficients and p-values\n",
    "results_df = pd.DataFrame({'Feature': coefficients.index, 'Coefficient': coefficients.values, 'P-Value': p_values.values})\n",
    "\n",
    "# Select significant features with p-value < 0.05\n",
    "significant_results = results_df[results_df['P-Value'] < 0.05]\n",
    "\n",
    "# Drop the row for the constant term, if present\n",
    "significant_results = significant_results[significant_results['Feature'] != 'const']\n",
    "\n",
    "# Print the results\n",
    "print(\"Significant Features with Coefficients and P-Values:\")\n",
    "print(significant_results)\n",
    "\n"
   ]
  },
  {
   "cell_type": "markdown",
   "metadata": {},
   "source": [
    "5. Build Predictive Models"
   ]
  },
  {
   "cell_type": "code",
   "execution_count": 77,
   "metadata": {},
   "outputs": [
    {
     "name": "stdout",
     "output_type": "stream",
     "text": [
      "              precision    recall  f1-score   support\n",
      "\n",
      "           0       0.92      0.99      0.95       371\n",
      "           1       0.96      0.76      0.85       141\n",
      "\n",
      "    accuracy                           0.93       512\n",
      "   macro avg       0.94      0.87      0.90       512\n",
      "weighted avg       0.93      0.93      0.92       512\n",
      "\n"
     ]
    }
   ],
   "source": [
    "from sklearn.ensemble import GradientBoostingClassifier\n",
    "from sklearn.metrics import classification_report\n",
    "from sklearn.model_selection import train_test_split\n",
    "\n",
    "# Split the data into training and testing sets\n",
    "X_train, X_test, y_train, y_test = train_test_split(X_resampled, y_resampled, test_size=0.3, random_state=42)\n",
    "\n",
    "\n",
    "gbc = GradientBoostingClassifier(random_state=42)\n",
    "gbc.fit(X_resampled, y_resampled)\n",
    "y_pred = gbc.predict(X_test)\n",
    "print(classification_report(y_test, y_pred))\n"
   ]
  }
 ],
 "metadata": {
  "kernelspec": {
   "display_name": "base",
   "language": "python",
   "name": "python3"
  },
  "language_info": {
   "codemirror_mode": {
    "name": "ipython",
    "version": 3
   },
   "file_extension": ".py",
   "mimetype": "text/x-python",
   "name": "python",
   "nbconvert_exporter": "python",
   "pygments_lexer": "ipython3",
   "version": "3.12.7"
  }
 },
 "nbformat": 4,
 "nbformat_minor": 2
}
