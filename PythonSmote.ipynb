{
 "cells": [
  {
   "cell_type": "code",
   "execution_count": 17,
   "metadata": {},
   "outputs": [
    {
     "name": "stdout",
     "output_type": "stream",
     "text": [
      "Dataset dimensions: (1470, 35)\n",
      "Index(['Age', 'Attrition', 'BusinessTravel', 'DailyRate', 'Department',\n",
      "       'DistanceFromHome', 'Education', 'EducationField', 'EmployeeCount',\n",
      "       'EmployeeNumber', 'EnvironmentSatisfaction', 'Gender', 'HourlyRate',\n",
      "       'JobInvolvement', 'JobLevel', 'JobRole', 'JobSatisfaction',\n",
      "       'MaritalStatus', 'MonthlyIncome', 'MonthlyRate', 'NumCompaniesWorked',\n",
      "       'Over18', 'OverTime', 'PercentSalaryHike', 'PerformanceRating',\n",
      "       'RelationshipSatisfaction', 'StandardHours', 'StockOptionLevel',\n",
      "       'TotalWorkingYears', 'TrainingTimesLastYear', 'WorkLifeBalance',\n",
      "       'YearsAtCompany', 'YearsInCurrentRole', 'YearsSinceLastPromotion',\n",
      "       'YearsWithCurrManager'],\n",
      "      dtype='object')\n"
     ]
    }
   ],
   "source": [
    "import pandas as pd\n",
    "from sklearn.preprocessing import StandardScaler\n",
    "from sklearn.preprocessing import LabelEncoder\n",
    "from sklearn.decomposition import PCA\n",
    "import matplotlib.pyplot as plt\n",
    "import seaborn as sns\n",
    "\n",
    "\n",
    "# Replace with your file path\n",
    "fileNameCSV = \"WA_Fn-UseC_-HR-Employee-Attrition.csv\"\n",
    "#fileNameCSV = \"WholeDataAsNumbers.csv\"\n",
    "try:\n",
    "    # Attempt to read the CSV file into a DataFrame\n",
    "    df = pd.read_csv(fileNameCSV)\n",
    "except PermissionError:\n",
    "    print(f\"PermissionError: You do not have permission to read the file '{fileNameCSV}'.\")\n",
    "except FileNotFoundError:\n",
    "    print(f\"FileNotFoundError: The file '{fileNameCSV}' does not exist.\")\n",
    "except Exception as e:\n",
    "    print(f\"An error occurred: {e}\")\n",
    "\n",
    "print(\"Dataset dimensions:\", df.shape)\n",
    "\n",
    "#print(df.info())\n",
    "print(df.columns)"
   ]
  },
  {
   "cell_type": "markdown",
   "metadata": {},
   "source": [
    "1. Preprocess the Dataset"
   ]
  },
  {
   "cell_type": "code",
   "execution_count": 18,
   "metadata": {},
   "outputs": [],
   "source": [
    "#Encode Categorical Variables:\n",
    "#df = pd.get_dummies(df, drop_first=True)\n",
    "#Encode Categorical Variables:\n",
    "df = pd.get_dummies(df, drop_first=True)\n",
    "#Standardize the Data:\n",
    "from sklearn.preprocessing import StandardScaler\n",
    "scaler = StandardScaler()\n",
    "target_column = [col for col in df.columns if col.startswith('Attrition')][0]\n",
    "data_scaled = scaler.fit_transform(df.drop(target_column, axis=1))\n",
    "\n"
   ]
  },
  {
   "cell_type": "markdown",
   "metadata": {},
   "source": [
    "2. Handle the Class Imbalance"
   ]
  },
  {
   "cell_type": "code",
   "execution_count": 19,
   "metadata": {},
   "outputs": [
    {
     "name": "stdout",
     "output_type": "stream",
     "text": [
      "Before SMOTE: Attrition_Yes\n",
      "False    1233\n",
      "True      237\n",
      "Name: count, dtype: int64\n",
      "After SMOTE: Attrition_Yes\n",
      "True     1233\n",
      "False    1233\n",
      "Name: count, dtype: int64\n"
     ]
    }
   ],
   "source": [
    "#Smote\n",
    "from imblearn.over_sampling import SMOTE\n",
    "\n",
    "X = df.drop(target_column, axis=1)\n",
    "y = df[target_column]\n",
    "\n",
    "smote = SMOTE(random_state=42)\n",
    "X_resampled, y_resampled = smote.fit_resample(X, y)\n",
    "print(\"Before SMOTE:\", y.value_counts())\n",
    "print(\"After SMOTE:\", pd.Series(y_resampled).value_counts())\n"
   ]
  },
  {
   "cell_type": "markdown",
   "metadata": {},
   "source": [
    "3. Explore the Data"
   ]
  },
  {
   "cell_type": "code",
   "execution_count": 20,
   "metadata": {},
   "outputs": [
    {
     "name": "stdout",
     "output_type": "stream",
     "text": [
      "Age                                 -0.159205\n",
      "DailyRate                           -0.056652\n",
      "DistanceFromHome                     0.077924\n",
      "Education                           -0.031373\n",
      "EmployeeCount                             NaN\n",
      "EmployeeNumber                      -0.010577\n",
      "EnvironmentSatisfaction             -0.103369\n",
      "HourlyRate                          -0.006846\n",
      "JobInvolvement                      -0.130016\n",
      "JobLevel                            -0.169105\n",
      "JobSatisfaction                     -0.103481\n",
      "MonthlyIncome                       -0.159840\n",
      "MonthlyRate                          0.015170\n",
      "NumCompaniesWorked                   0.043494\n",
      "PercentSalaryHike                   -0.013478\n",
      "PerformanceRating                    0.002889\n",
      "RelationshipSatisfaction            -0.045872\n",
      "StandardHours                             NaN\n",
      "StockOptionLevel                    -0.137145\n",
      "TotalWorkingYears                   -0.171063\n",
      "TrainingTimesLastYear               -0.059478\n",
      "WorkLifeBalance                     -0.063939\n",
      "YearsAtCompany                      -0.134392\n",
      "YearsInCurrentRole                  -0.160545\n",
      "YearsSinceLastPromotion             -0.033019\n",
      "YearsWithCurrManager                -0.156199\n",
      "Attrition_Yes                        1.000000\n",
      "BusinessTravel_Travel_Frequently     0.115143\n",
      "BusinessTravel_Travel_Rarely        -0.049538\n",
      "Department_Research & Development   -0.085293\n",
      "Department_Sales                     0.080855\n",
      "EducationField_Life Sciences        -0.032703\n",
      "EducationField_Marketing             0.055781\n",
      "EducationField_Medical              -0.046999\n",
      "EducationField_Other                -0.017898\n",
      "EducationField_Technical Degree      0.069355\n",
      "Gender_Male                          0.029453\n",
      "JobRole_Human Resources              0.036215\n",
      "JobRole_Laboratory Technician        0.098290\n",
      "JobRole_Manager                     -0.083316\n",
      "JobRole_Manufacturing Director      -0.082994\n",
      "JobRole_Research Director           -0.088870\n",
      "JobRole_Research Scientist          -0.000360\n",
      "JobRole_Sales Executive              0.019774\n",
      "JobRole_Sales Representative         0.157234\n",
      "MaritalStatus_Married               -0.090984\n",
      "MaritalStatus_Single                 0.175419\n",
      "OverTime_Yes                         0.246118\n",
      "Name: Attrition_Yes, dtype: float64\n"
     ]
    },
    {
     "data": {
      "text/plain": [
       "<Axes: xlabel='Attrition_Yes', ylabel='MonthlyIncome'>"
      ]
     },
     "execution_count": 20,
     "metadata": {},
     "output_type": "execute_result"
    },
    {
     "data": {
      "image/png": "[encoded data removed]",
      "text/plain": [
       "<Figure size 640x480 with 1 Axes>"
      ]
     },
     "metadata": {},
     "output_type": "display_data"
    }
   ],
   "source": [
    "#Correlation Analysis:\n",
    "correlation_matrix = df.corr()\n",
    "print(correlation_matrix[target_column])\n",
    "#EDA (Exploratory Data Analysis):\n",
    "import seaborn as sns\n",
    "sns.boxplot(x=target_column, y='MonthlyIncome', data=df)\n",
    "#sns.barplot(x=target_column, y='OverTime', data=df)\n"
   ]
  },
  {
   "cell_type": "markdown",
   "metadata": {},
   "source": [
    "4. Feature Selection"
   ]
  },
  {
   "cell_type": "code",
   "execution_count": 21,
   "metadata": {},
   "outputs": [
    {
     "name": "stdout",
     "output_type": "stream",
     "text": [
      "Random Forest:\n",
      "StockOptionLevel                     0.061459\n",
      "JobSatisfaction                      0.048595\n",
      "MonthlyIncome                        0.048063\n",
      "JobLevel                             0.043023\n",
      "Department_Research & Development    0.042961\n",
      "JobInvolvement                       0.038422\n",
      "EnvironmentSatisfaction              0.035116\n",
      "MonthlyRate                          0.034573\n",
      "TotalWorkingYears                    0.034458\n",
      "EmployeeNumber                       0.033704\n",
      "DistanceFromHome                     0.032997\n",
      "YearsWithCurrManager                 0.032692\n",
      "MaritalStatus_Married                0.032385\n",
      "HourlyRate                           0.032022\n",
      "Age                                  0.031659\n",
      "DailyRate                            0.031380\n",
      "EducationField_Medical               0.030392\n",
      "YearsInCurrentRole                   0.030379\n",
      "RelationshipSatisfaction             0.027395\n",
      "YearsAtCompany                       0.027219\n",
      "TrainingTimesLastYear                0.023335\n",
      "EducationField_Life Sciences         0.021619\n",
      "WorkLifeBalance                      0.021071\n",
      "PercentSalaryHike                    0.020724\n",
      "Education                            0.018498\n",
      "YearsSinceLastPromotion              0.018433\n",
      "BusinessTravel_Travel_Rarely         0.018308\n",
      "NumCompaniesWorked                   0.016733\n",
      "Department_Sales                     0.015373\n",
      "OverTime_Yes                         0.012473\n",
      "JobRole_Sales Executive              0.009818\n",
      "JobRole_Research Scientist           0.009803\n",
      "Gender_Male                          0.008441\n",
      "JobRole_Manufacturing Director       0.006924\n",
      "MaritalStatus_Single                 0.006462\n",
      "PerformanceRating                    0.006202\n",
      "EducationField_Technical Degree      0.005092\n",
      "BusinessTravel_Travel_Frequently     0.004982\n",
      "JobRole_Human Resources              0.004967\n",
      "JobRole_Laboratory Technician        0.004762\n",
      "EducationField_Other                 0.004704\n",
      "EducationField_Marketing             0.003993\n",
      "JobRole_Manager                      0.003599\n",
      "JobRole_Sales Representative         0.003042\n",
      "JobRole_Research Director            0.001746\n",
      "StandardHours                        0.000000\n",
      "EmployeeCount                        0.000000\n",
      "dtype: float64\n",
      "Logistic Regression Coefficients:\n",
      "DistanceFromHome                     0.046418\n",
      "StandardHours                        0.029828\n",
      "NumCompaniesWorked                   0.011506\n",
      "YearsSinceLastPromotion              0.006277\n",
      "HourlyRate                           0.004619\n",
      "OverTime_Yes                         0.004397\n",
      "EmployeeCount                        0.000373\n",
      "EmployeeNumber                       0.000019\n",
      "MonthlyRate                         -0.000003\n",
      "MonthlyIncome                       -0.000008\n",
      "JobRole_Sales Representative        -0.000115\n",
      "MaritalStatus_Single                -0.000284\n",
      "DailyRate                           -0.000379\n",
      "JobRole_Manager                     -0.000961\n",
      "JobRole_Human Resources             -0.000980\n",
      "JobRole_Research Director           -0.001106\n",
      "JobRole_Sales Executive             -0.001330\n",
      "EducationField_Marketing            -0.001407\n",
      "BusinessTravel_Travel_Frequently    -0.001657\n",
      "Department_Sales                    -0.001704\n",
      "EducationField_Other                -0.001871\n",
      "EducationField_Technical Degree     -0.002033\n",
      "PerformanceRating                   -0.002902\n",
      "JobRole_Laboratory Technician       -0.003353\n",
      "JobRole_Manufacturing Director      -0.003623\n",
      "JobLevel                            -0.004409\n",
      "Gender_Male                         -0.005929\n",
      "JobRole_Research Scientist          -0.005937\n",
      "EducationField_Life Sciences        -0.008953\n",
      "EducationField_Medical              -0.009037\n",
      "BusinessTravel_Travel_Rarely        -0.009056\n",
      "MaritalStatus_Married               -0.010453\n",
      "Education                           -0.010745\n",
      "WorkLifeBalance                     -0.012430\n",
      "Department_Research & Development   -0.012505\n",
      "RelationshipSatisfaction            -0.015108\n",
      "JobInvolvement                      -0.017024\n",
      "PercentSalaryHike                   -0.018228\n",
      "StockOptionLevel                    -0.018832\n",
      "TrainingTimesLastYear               -0.020107\n",
      "EnvironmentSatisfaction             -0.022589\n",
      "JobSatisfaction                     -0.022827\n",
      "YearsAtCompany                      -0.023191\n",
      "TotalWorkingYears                   -0.028543\n",
      "YearsInCurrentRole                  -0.038074\n",
      "YearsWithCurrManager                -0.040201\n",
      "Age                                 -0.042853\n",
      "dtype: float64\n"
     ]
    },
    {
     "name": "stderr",
     "output_type": "stream",
     "text": [
      "/opt/anaconda3/lib/python3.12/site-packages/sklearn/linear_model/_logistic.py:469: ConvergenceWarning: lbfgs failed to converge (status=1):\n",
      "STOP: TOTAL NO. of ITERATIONS REACHED LIMIT.\n",
      "\n",
      "Increase the number of iterations (max_iter) or scale the data as shown in:\n",
      "    https://scikit-learn.org/stable/modules/preprocessing.html\n",
      "Please also refer to the documentation for alternative solver options:\n",
      "    https://scikit-learn.org/stable/modules/linear_model.html#logistic-regression\n",
      "  n_iter_i = _check_optimize_result(\n"
     ]
    }
   ],
   "source": [
    "#Use statistical and machine learning techniques to identify important features:\n",
    "#Random Forest:\n",
    "print(\"Random Forest:\")\n",
    "from sklearn.ensemble import RandomForestClassifier\n",
    "model = RandomForestClassifier(random_state=42)\n",
    "model.fit(X_resampled, y_resampled)\n",
    "feature_importances = pd.Series(model.feature_importances_, index=X.columns)\n",
    "print(feature_importances.sort_values(ascending=False))\n",
    "print(\"Logistic Regression Coefficients:\")\n",
    "\n",
    "#Logistic Regression Coefficients:\n",
    "from sklearn.linear_model import LogisticRegression\n",
    "\n",
    "lr = LogisticRegression(class_weight='balanced', random_state=42)\n",
    "lr.fit(X_resampled, y_resampled)\n",
    "print(pd.Series(lr.coef_[0], index=X.columns).sort_values(ascending=False))\n"
   ]
  },
  {
   "cell_type": "markdown",
   "metadata": {},
   "source": [
    "5. Build Predictive Models"
   ]
  },
  {
   "cell_type": "code",
   "execution_count": 22,
   "metadata": {},
   "outputs": [
    {
     "name": "stdout",
     "output_type": "stream",
     "text": [
      "              precision    recall  f1-score   support\n",
      "\n",
      "       False       0.93      0.98      0.96       369\n",
      "        True       0.98      0.93      0.95       371\n",
      "\n",
      "    accuracy                           0.95       740\n",
      "   macro avg       0.96      0.95      0.95       740\n",
      "weighted avg       0.96      0.95      0.95       740\n",
      "\n"
     ]
    }
   ],
   "source": [
    "from sklearn.ensemble import GradientBoostingClassifier\n",
    "from sklearn.metrics import classification_report\n",
    "from sklearn.model_selection import train_test_split\n",
    "\n",
    "# Split the data into training and testing sets\n",
    "X_train, X_test, y_train, y_test = train_test_split(X_resampled, y_resampled, test_size=0.3, random_state=42)\n",
    "\n",
    "\n",
    "gbc = GradientBoostingClassifier(random_state=42)\n",
    "gbc.fit(X_resampled, y_resampled)\n",
    "y_pred = gbc.predict(X_test)\n",
    "print(classification_report(y_test, y_pred))\n"
   ]
  }
 ],
 "metadata": {
  "kernelspec": {
   "display_name": "base",
   "language": "python",
   "name": "python3"
  },
  "language_info": {
   "codemirror_mode": {
    "name": "ipython",
    "version": 3
   },
   "file_extension": ".py",
   "mimetype": "text/x-python",
   "name": "python",
   "nbconvert_exporter": "python",
   "pygments_lexer": "ipython3",
   "version": "3.12.7"
  }
 },
 "nbformat": 4,
 "nbformat_minor": 2
}
